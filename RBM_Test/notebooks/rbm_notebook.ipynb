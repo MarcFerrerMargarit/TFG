{
 "cells": [
  {
   "cell_type": "markdown",
   "metadata": {},
   "source": [
    "# About RBMs\n",
    "\n",
    "Let us assume we have $d$ visible units and $n$ hidden units.\n",
    "\n",
    "\n",
    "Energy of an RBM\n",
    "\n",
    "$$\n",
    "E(\\pmb{x},\\pmb{h}) = - \\pmb{c}^T \\pmb{v} - \\pmb{b}^T \\pmb{h} - \\pmb{h}^T \\pmb{W} \\pmb{v}\n",
    "$$\n",
    "\n",
    "Probability of an assignment of hidden and visible units:\n",
    "\n",
    "$$\n",
    "P(v,h) = - \\frac{ e^{-E(v,h)} } { \\sum_{( \\bar{v},\\bar{h}) \\in \\{0,1\\}^d x \\{0,1\\}^n } e^{-E(\\bar{v},\\bar{h})} }\n",
    "$$"
   ]
  },
  {
   "cell_type": "code",
   "execution_count": 1,
   "metadata": {
    "collapsed": true
   },
   "outputs": [],
   "source": [
    "import sys\n",
    "import os\n",
    "import inspect\n",
    "#sys.path.insert(0,'..')\n",
    "\n",
    "currentdir = os.path.dirname(os.path.abspath(inspect.getfile(inspect.currentframe())))\n",
    "parent =  os.path.dirname(currentdir) + '/RBM'\n",
    "sys.path.insert(0,parent)\n",
    "\n",
    "%load_ext autoreload\n",
    "%autoreload 2\n",
    "%matplotlib inline\n",
    "\n",
    "from timeit import default_timer as timer\n",
    "import numpy as np\n",
    "import time\n",
    "import matplotlib.pyplot as plt\n",
    "import numexpr  as ne\n",
    "import profile\n",
    "import rbm as Rbm\n",
    "import pandas"
   ]
  },
  {
   "cell_type": "markdown",
   "metadata": {},
   "source": [
    "## Read the MNIST "
   ]
  },
  {
   "cell_type": "code",
   "execution_count": 6,
   "metadata": {},
   "outputs": [
    {
     "name": "stdout",
     "output_type": "stream",
     "text": [
      "\t files read\n",
      "[[14 14 14 14 14]\n",
      " [ 0  0  0  0  0]]\n",
      "[1 0]\n",
      "[[14. 14. 14. 14. 14.]\n",
      " [ 0.  0.  0.  0.  0.]]\n"
     ]
    }
   ],
   "source": [
    "X_ = pandas.read_csv(\"../Datasets/MNIST/train_mnist.csv\")\n",
    "Y = X_[\"label\"].values\n",
    "X = X_[X_.columns[1:]].values\n",
    "\n",
    "del(X_)\n",
    "\n",
    "print('\\t files read')\n",
    "X = np.array(X, dtype ='float32')\n",
    "\n",
    "X = np.array(([14,14,14,14,14],[0,0,0,0,0]))\n",
    "Y = np.array(([1,0]))\n",
    "Xaux = np.array(X, dtype='float32')\n",
    "\n",
    "saved_models_folder = \"saved_models\"\n",
    "visible_dim = X.shape[1]\n",
    "hidden_dim = 225\n",
    "epochs = 100\n",
    "K = 1\n",
    "lr = 0.1\n",
    "batch_size = 10\n",
    "\n",
    "print(X)\n",
    "print(Y)\n",
    "print(Xaux)"
   ]
  },
  {
   "cell_type": "markdown",
   "metadata": {},
   "source": [
    "## Defining an RBM\n"
   ]
  },
  {
   "cell_type": "code",
   "execution_count": 7,
   "metadata": {
    "collapsed": true
   },
   "outputs": [],
   "source": [
    "rbm_ = Rbm.RBM(visible_dim=visible_dim,\n",
    "               hidden_dim=hidden_dim,\n",
    "               seed=42,\n",
    "               mu=0, \n",
    "               sigma=0.3,\n",
    "               monitor_time=True)"
   ]
  },
  {
   "cell_type": "code",
   "execution_count": 8,
   "metadata": {},
   "outputs": [
    {
     "data": {
      "text/plain": [
       "((5, 225), (5,), <rbm.RBM at 0x1cedb6c0d68>)"
      ]
     },
     "execution_count": 8,
     "metadata": {},
     "output_type": "execute_result"
    }
   ],
   "source": [
    "rbm_.W.shape, rbm_.b.shape, rbm_"
   ]
  },
  {
   "cell_type": "markdown",
   "metadata": {},
   "source": [
    "## Benchmarking `.fit` method (vectorized vs non vectorized)"
   ]
  },
  {
   "cell_type": "code",
   "execution_count": 9,
   "metadata": {
    "collapsed": true
   },
   "outputs": [],
   "source": [
    "Xaux = np.array(Xaux, dtype=\"float64\")"
   ]
  },
  {
   "cell_type": "code",
   "execution_count": 10,
   "metadata": {},
   "outputs": [
    {
     "name": "stdout",
     "output_type": "stream",
     "text": [
      "\tepoch: 0 \ttime per epoch: 0.48\ttotal time: 0.48\r",
      "\tLast epoch: 0 \ttime per epoch: 0.48\ttotal time: 0.48\r\n",
      "\tTraining finished\n",
      "\n",
      "\n",
      "Wall time: 485 ms\n"
     ]
    }
   ],
   "source": [
    "%%time\n",
    "rbm_.fit(Xaux, \n",
    "         method='CDK',\n",
    "         K=K,\n",
    "         lr=lr,\n",
    "         epochs=1,\n",
    "         batch_size=128,\n",
    "         plot_weights=False)"
   ]
  },
  {
   "cell_type": "code",
   "execution_count": 11,
   "metadata": {
    "scrolled": false
   },
   "outputs": [
    {
     "name": "stdout",
     "output_type": "stream",
     "text": [
      "\tepoch: 0 \ttime per epoch: 0.18\ttotal time: 0.18\r",
      "\tLast epoch: 0 \ttime per epoch: 0.18\ttotal time: 0.18\r\n",
      "\tTraining finished\n",
      "\n",
      "\n",
      "Wall time: 181 ms\n"
     ]
    }
   ],
   "source": [
    "%%time\n",
    "rbm_.fit(Xaux, \n",
    "         method='vectorized_CDK',\n",
    "         K=K,\n",
    "         lr=0.01,\n",
    "         epochs=1,\n",
    "         batch_size=128,\n",
    "         plot_weights=False)"
   ]
  },
  {
   "cell_type": "markdown",
   "metadata": {},
   "source": [
    "## Training multiple epochs and showing the weights"
   ]
  },
  {
   "cell_type": "code",
   "execution_count": 12,
   "metadata": {
    "collapsed": true
   },
   "outputs": [],
   "source": [
    "rbm_ = Rbm.RBM(visible_dim=visible_dim,\n",
    "               hidden_dim=hidden_dim,\n",
    "               seed=42,\n",
    "               mu=0, \n",
    "               sigma=0.3,\n",
    "               monitor_time=True)"
   ]
  },
  {
   "cell_type": "code",
   "execution_count": 13,
   "metadata": {},
   "outputs": [
    {
     "name": "stdout",
     "output_type": "stream",
     "text": [
      "\tepoch: 0 \ttime per epoch: 0.00\ttotal time: 0.00\r",
      "\tepoch: 1 \ttime per epoch: 0.00\ttotal time: 0.00\r",
      "\tepoch: 2 \ttime per epoch: 0.00\ttotal time: 0.00\r",
      "\tepoch: 3 \ttime per epoch: 0.00\ttotal time: 0.00\r",
      "\tepoch: 4 \ttime per epoch: 0.00\ttotal time: 0.00\r",
      "\tepoch: 5 \ttime per epoch: 0.00\ttotal time: 0.00\r",
      "\tepoch: 6 \ttime per epoch: 0.00\ttotal time: 0.00\r",
      "\tepoch: 7 \ttime per epoch: 0.00\ttotal time: 0.01\r",
      "\tepoch: 8 \ttime per epoch: 0.00\ttotal time: 0.01\r",
      "\tepoch: 9 \ttime per epoch: 0.00\ttotal time: 0.01\r",
      "\tepoch: 10 \ttime per epoch: 0.00\ttotal time: 0.01\r",
      "\tepoch: 11 \ttime per epoch: 0.00\ttotal time: 0.01\r",
      "\tepoch: 12 \ttime per epoch: 0.00\ttotal time: 0.01\r",
      "\tepoch: 13 \ttime per epoch: 0.00\ttotal time: 0.01\r",
      "\tepoch: 14 \ttime per epoch: 0.00\ttotal time: 0.01\r",
      "\tepoch: 15 \ttime per epoch: 0.00\ttotal time: 0.01\r",
      "\tepoch: 16 \ttime per epoch: 0.00\ttotal time: 0.01\r",
      "\tepoch: 17 \ttime per epoch: 0.00\ttotal time: 0.01\r",
      "\tepoch: 18 \ttime per epoch: 0.00\ttotal time: 0.01\r",
      "\tepoch: 19 \ttime per epoch: 0.00\ttotal time: 0.01\r",
      "\tepoch: 20 \ttime per epoch: 0.00\ttotal time: 0.01\r",
      "\tepoch: 21 \ttime per epoch: 0.00\ttotal time: 0.01\r",
      "\tepoch: 22 \ttime per epoch: 0.00\ttotal time: 0.01\r",
      "\tepoch: 23 \ttime per epoch: 0.00\ttotal time: 0.01\r",
      "\tepoch: 24 \ttime per epoch: 0.00\ttotal time: 0.01\r",
      "\tepoch: 25 \ttime per epoch: 0.00\ttotal time: 0.02\r",
      "\tepoch: 26 \ttime per epoch: 0.00\ttotal time: 0.02\r",
      "\tepoch: 27 \ttime per epoch: 0.00\ttotal time: 0.02\r",
      "\tepoch: 28 \ttime per epoch: 0.00\ttotal time: 0.02\r",
      "\tepoch: 29 \ttime per epoch: 0.00\ttotal time: 0.02\r",
      "\tepoch: 30 \ttime per epoch: 0.00\ttotal time: 0.02\r",
      "\tepoch: 31 \ttime per epoch: 0.00\ttotal time: 0.02\r",
      "\tepoch: 32 \ttime per epoch: 0.00\ttotal time: 0.02\r",
      "\tepoch: 33 \ttime per epoch: 0.00\ttotal time: 0.02\r",
      "\tepoch: 34 \ttime per epoch: 0.00\ttotal time: 0.02\r",
      "\tepoch: 35 \ttime per epoch: 0.00\ttotal time: 0.02\r",
      "\tepoch: 36 \ttime per epoch: 0.00\ttotal time: 0.02\r",
      "\tepoch: 37 \ttime per epoch: 0.00\ttotal time: 0.02\r",
      "\tepoch: 38 \ttime per epoch: 0.00\ttotal time: 0.02\r",
      "\tepoch: 39 \ttime per epoch: 0.00\ttotal time: 0.02\r",
      "\tepoch: 40 \ttime per epoch: 0.00\ttotal time: 0.02\r",
      "\tepoch: 41 \ttime per epoch: 0.00\ttotal time: 0.02\r",
      "\tepoch: 42 \ttime per epoch: 0.00\ttotal time: 0.02\r",
      "\tepoch: 43 \ttime per epoch: 0.00\ttotal time: 0.02\r",
      "\tepoch: 44 \ttime per epoch: 0.00\ttotal time: 0.03\r",
      "\tepoch: 45 \ttime per epoch: 0.00\ttotal time: 0.03\r",
      "\tepoch: 46 \ttime per epoch: 0.00\ttotal time: 0.03\r",
      "\tepoch: 47 \ttime per epoch: 0.00\ttotal time: 0.03\r",
      "\tepoch: 48 \ttime per epoch: 0.00\ttotal time: 0.03\r",
      "\tepoch: 49 \ttime per epoch: 0.00\ttotal time: 0.03\r",
      "\tepoch: 50 \ttime per epoch: 0.00\ttotal time: 0.03\r",
      "\tepoch: 51 \ttime per epoch: 0.00\ttotal time: 0.03\r",
      "\tepoch: 52 \ttime per epoch: 0.00\ttotal time: 0.03\r",
      "\tepoch: 53 \ttime per epoch: 0.00\ttotal time: 0.03\r",
      "\tepoch: 54 \ttime per epoch: 0.00\ttotal time: 0.03\r",
      "\tepoch: 55 \ttime per epoch: 0.00\ttotal time: 0.03\r",
      "\tepoch: 56 \ttime per epoch: 0.00\ttotal time: 0.03\r",
      "\tepoch: 57 \ttime per epoch: 0.00\ttotal time: 0.03\r",
      "\tepoch: 58 \ttime per epoch: 0.00\ttotal time: 0.03\r",
      "\tepoch: 59 \ttime per epoch: 0.00\ttotal time: 0.03\r",
      "\tepoch: 60 \ttime per epoch: 0.00\ttotal time: 0.03\r",
      "\tepoch: 61 \ttime per epoch: 0.00\ttotal time: 0.03\r",
      "\tepoch: 62 \ttime per epoch: 0.00\ttotal time: 0.04\r",
      "\tepoch: 63 \ttime per epoch: 0.00\ttotal time: 0.04\r",
      "\tepoch: 64 \ttime per epoch: 0.00\ttotal time: 0.04\r",
      "\tepoch: 65 \ttime per epoch: 0.00\ttotal time: 0.04\r",
      "\tepoch: 66 \ttime per epoch: 0.00\ttotal time: 0.04\r",
      "\tepoch: 67 \ttime per epoch: 0.00\ttotal time: 0.04\r",
      "\tepoch: 68 \ttime per epoch: 0.00\ttotal time: 0.04\r",
      "\tepoch: 69 \ttime per epoch: 0.00\ttotal time: 0.04\r",
      "\tepoch: 70 \ttime per epoch: 0.00\ttotal time: 0.04\r",
      "\tepoch: 71 \ttime per epoch: 0.00\ttotal time: 0.04\r",
      "\tepoch: 72 \ttime per epoch: 0.00\ttotal time: 0.04\r",
      "\tepoch: 73 \ttime per epoch: 0.00\ttotal time: 0.04\r",
      "\tepoch: 74 \ttime per epoch: 0.00\ttotal time: 0.04\r",
      "\tepoch: 75 \ttime per epoch: 0.00\ttotal time: 0.04\r",
      "\tepoch: 76 \ttime per epoch: 0.00\ttotal time: 0.04\r",
      "\tepoch: 77 \ttime per epoch: 0.00\ttotal time: 0.04\r",
      "\tepoch: 78 \ttime per epoch: 0.00\ttotal time: 0.04\r",
      "\tepoch: 79 \ttime per epoch: 0.00\ttotal time: 0.05\r",
      "\tepoch: 80 \ttime per epoch: 0.00\ttotal time: 0.05\r",
      "\tepoch: 81 \ttime per epoch: 0.00\ttotal time: 0.05\r",
      "\tepoch: 82 \ttime per epoch: 0.00\ttotal time: 0.05\r",
      "\tepoch: 83 \ttime per epoch: 0.00\ttotal time: 0.05\r",
      "\tepoch: 84 \ttime per epoch: 0.00\ttotal time: 0.05\r",
      "\tepoch: 85 \ttime per epoch: 0.00\ttotal time: 0.05\r",
      "\tepoch: 86 \ttime per epoch: 0.00\ttotal time: 0.05\r",
      "\tepoch: 87 \ttime per epoch: 0.00\ttotal time: 0.05\r",
      "\tepoch: 88 \ttime per epoch: 0.00\ttotal time: 0.05\r",
      "\tepoch: 89 \ttime per epoch: 0.00\ttotal time: 0.05\r",
      "\tepoch: 90 \ttime per epoch: 0.00\ttotal time: 0.05\r",
      "\tepoch: 91 \ttime per epoch: 0.00\ttotal time: 0.05\r",
      "\tepoch: 92 \ttime per epoch: 0.00\ttotal time: 0.05\r",
      "\tepoch: 93 \ttime per epoch: 0.00\ttotal time: 0.05\r",
      "\tepoch: 94 \ttime per epoch: 0.00\ttotal time: 0.05\r",
      "\tepoch: 95 \ttime per epoch: 0.00\ttotal time: 0.05\r",
      "\tepoch: 96 \ttime per epoch: 0.00\ttotal time: 0.05\r",
      "\tepoch: 97 \ttime per epoch: 0.00\ttotal time: 0.05\r",
      "\tepoch: 98 \ttime per epoch: 0.00\ttotal time: 0.05\r",
      "\tepoch: 99 \ttime per epoch: 0.00\ttotal time: 0.06\r",
      "\tepoch: 100 \ttime per epoch: 0.00\ttotal time: 0.06\r",
      "\tepoch: 101 \ttime per epoch: 0.00\ttotal time: 0.06\r",
      "\tepoch: 102 \ttime per epoch: 0.00\ttotal time: 0.06\r",
      "\tepoch: 103 \ttime per epoch: 0.00\ttotal time: 0.06\r",
      "\tepoch: 104 \ttime per epoch: 0.00\ttotal time: 0.06\r",
      "\tepoch: 105 \ttime per epoch: 0.00\ttotal time: 0.06\r",
      "\tepoch: 106 \ttime per epoch: 0.00\ttotal time: 0.06\r",
      "\tepoch: 107 \ttime per epoch: 0.00\ttotal time: 0.06\r",
      "\tepoch: 108 \ttime per epoch: 0.00\ttotal time: 0.06\r",
      "\tepoch: 109 \ttime per epoch: 0.00\ttotal time: 0.06\r",
      "\tepoch: 110 \ttime per epoch: 0.00\ttotal time: 0.06\r",
      "\tepoch: 111 \ttime per epoch: 0.00\ttotal time: 0.06\r",
      "\tepoch: 112 \ttime per epoch: 0.00\ttotal time: 0.06\r",
      "\tepoch: 113 \ttime per epoch: 0.00\ttotal time: 0.06\r",
      "\tepoch: 114 \ttime per epoch: 0.00\ttotal time: 0.06\r",
      "\tepoch: 115 \ttime per epoch: 0.00\ttotal time: 0.06\r",
      "\tepoch: 116 \ttime per epoch: 0.00\ttotal time: 0.06\r",
      "\tepoch: 117 \ttime per epoch: 0.00\ttotal time: 0.07\r",
      "\tepoch: 118 \ttime per epoch: 0.00\ttotal time: 0.07\r",
      "\tepoch: 119 \ttime per epoch: 0.00\ttotal time: 0.07\r",
      "\tepoch: 120 \ttime per epoch: 0.00\ttotal time: 0.07\r",
      "\tepoch: 121 \ttime per epoch: 0.00\ttotal time: 0.07\r",
      "\tepoch: 122 \ttime per epoch: 0.00\ttotal time: 0.07\r",
      "\tepoch: 123 \ttime per epoch: 0.00\ttotal time: 0.07\r",
      "\tepoch: 124 \ttime per epoch: 0.00\ttotal time: 0.07\r",
      "\tepoch: 125 \ttime per epoch: 0.00\ttotal time: 0.07\r",
      "\tepoch: 126 \ttime per epoch: 0.00\ttotal time: 0.07\r",
      "\tepoch: 127 \ttime per epoch: 0.00\ttotal time: 0.07\r",
      "\tepoch: 128 \ttime per epoch: 0.00\ttotal time: 0.07\r",
      "\tepoch: 129 \ttime per epoch: 0.00\ttotal time: 0.07\r",
      "\tepoch: 130 \ttime per epoch: 0.00\ttotal time: 0.07\r",
      "\tepoch: 131 \ttime per epoch: 0.00\ttotal time: 0.07\r",
      "\tepoch: 132 \ttime per epoch: 0.00\ttotal time: 0.07\r",
      "\tepoch: 133 \ttime per epoch: 0.00\ttotal time: 0.07\r",
      "\tepoch: 134 \ttime per epoch: 0.00\ttotal time: 0.08\r",
      "\tepoch: 135 \ttime per epoch: 0.00\ttotal time: 0.08\r",
      "\tepoch: 136 \ttime per epoch: 0.00\ttotal time: 0.08\r",
      "\tepoch: 137 \ttime per epoch: 0.00\ttotal time: 0.08\r",
      "\tepoch: 138 \ttime per epoch: 0.00\ttotal time: 0.08\r",
      "\tepoch: 139 \ttime per epoch: 0.00\ttotal time: 0.08\r",
      "\tepoch: 140 \ttime per epoch: 0.00\ttotal time: 0.08\r",
      "\tepoch: 141 \ttime per epoch: 0.00\ttotal time: 0.08\r",
      "\tepoch: 142 \ttime per epoch: 0.00\ttotal time: 0.08\r",
      "\tepoch: 143 \ttime per epoch: 0.00\ttotal time: 0.08\r",
      "\tepoch: 144 \ttime per epoch: 0.00\ttotal time: 0.08\r",
      "\tepoch: 145 \ttime per epoch: 0.00\ttotal time: 0.08\r",
      "\tepoch: 146 \ttime per epoch: 0.00\ttotal time: 0.08\r",
      "\tepoch: 147 \ttime per epoch: 0.00\ttotal time: 0.08\r",
      "\tepoch: 148 \ttime per epoch: 0.00\ttotal time: 0.08\r",
      "\tepoch: 149 \ttime per epoch: 0.00\ttotal time: 0.09\r",
      "\tepoch: 150 \ttime per epoch: 0.00\ttotal time: 0.09\r",
      "\tepoch: 151 \ttime per epoch: 0.00\ttotal time: 0.09\r",
      "\tepoch: 152 \ttime per epoch: 0.00\ttotal time: 0.09\r",
      "\tepoch: 153 \ttime per epoch: 0.00\ttotal time: 0.09\r",
      "\tepoch: 154 \ttime per epoch: 0.00\ttotal time: 0.09\r",
      "\tepoch: 155 \ttime per epoch: 0.00\ttotal time: 0.09\r",
      "\tepoch: 156 \ttime per epoch: 0.00\ttotal time: 0.09\r",
      "\tepoch: 157 \ttime per epoch: 0.00\ttotal time: 0.09\r",
      "\tepoch: 158 \ttime per epoch: 0.00\ttotal time: 0.09\r",
      "\tepoch: 159 \ttime per epoch: 0.00\ttotal time: 0.09\r",
      "\tepoch: 160 \ttime per epoch: 0.00\ttotal time: 0.09\r",
      "\tepoch: 161 \ttime per epoch: 0.00\ttotal time: 0.09\r",
      "\tepoch: 162 \ttime per epoch: 0.00\ttotal time: 0.09\r",
      "\tepoch: 163 \ttime per epoch: 0.00\ttotal time: 0.09\r",
      "\tepoch: 164 \ttime per epoch: 0.00\ttotal time: 0.09\r",
      "\tepoch: 165 \ttime per epoch: 0.00\ttotal time: 0.09\r",
      "\tepoch: 166 \ttime per epoch: 0.00\ttotal time: 0.09\r",
      "\tepoch: 167 \ttime per epoch: 0.00\ttotal time: 0.09\r",
      "\tepoch: 168 \ttime per epoch: 0.00\ttotal time: 0.09\r",
      "\tepoch: 169 \ttime per epoch: 0.00\ttotal time: 0.10\r",
      "\tepoch: 170 \ttime per epoch: 0.00\ttotal time: 0.10\r",
      "\tepoch: 171 \ttime per epoch: 0.00\ttotal time: 0.10\r",
      "\tepoch: 172 \ttime per epoch: 0.00\ttotal time: 0.10\r",
      "\tepoch: 173 \ttime per epoch: 0.00\ttotal time: 0.10\r",
      "\tepoch: 174 \ttime per epoch: 0.00\ttotal time: 0.10\r",
      "\tepoch: 175 \ttime per epoch: 0.00\ttotal time: 0.10\r",
      "\tepoch: 176 \ttime per epoch: 0.00\ttotal time: 0.10\r",
      "\tepoch: 177 \ttime per epoch: 0.00\ttotal time: 0.10\r",
      "\tepoch: 178 \ttime per epoch: 0.00\ttotal time: 0.10\r",
      "\tepoch: 179 \ttime per epoch: 0.00\ttotal time: 0.10\r",
      "\tepoch: 180 \ttime per epoch: 0.00\ttotal time: 0.10\r",
      "\tepoch: 181 \ttime per epoch: 0.00\ttotal time: 0.10\r",
      "\tepoch: 182 \ttime per epoch: 0.00\ttotal time: 0.10\r",
      "\tepoch: 183 \ttime per epoch: 0.00\ttotal time: 0.10\r",
      "\tepoch: 184 \ttime per epoch: 0.00\ttotal time: 0.10\r",
      "\tepoch: 185 \ttime per epoch: 0.00\ttotal time: 0.10\r",
      "\tepoch: 186 \ttime per epoch: 0.00\ttotal time: 0.10\r",
      "\tepoch: 187 \ttime per epoch: 0.00\ttotal time: 0.10\r",
      "\tepoch: 188 \ttime per epoch: 0.00\ttotal time: 0.10\r",
      "\tepoch: 189 \ttime per epoch: 0.00\ttotal time: 0.11\r",
      "\tepoch: 190 \ttime per epoch: 0.00\ttotal time: 0.11\r",
      "\tepoch: 191 \ttime per epoch: 0.00\ttotal time: 0.11\r",
      "\tepoch: 192 \ttime per epoch: 0.00\ttotal time: 0.11\r",
      "\tepoch: 193 \ttime per epoch: 0.00\ttotal time: 0.11\r",
      "\tepoch: 194 \ttime per epoch: 0.00\ttotal time: 0.11\r",
      "\tepoch: 195 \ttime per epoch: 0.00\ttotal time: 0.11\r",
      "\tepoch: 196 \ttime per epoch: 0.00\ttotal time: 0.11\r",
      "\tepoch: 197 \ttime per epoch: 0.00\ttotal time: 0.11\r",
      "\tepoch: 198 \ttime per epoch: 0.00\ttotal time: 0.11\r",
      "\tepoch: 199 \ttime per epoch: 0.00\ttotal time: 0.11\r",
      "\tepoch: 200 \ttime per epoch: 0.00\ttotal time: 0.11\r",
      "\tepoch: 201 \ttime per epoch: 0.00\ttotal time: 0.11\r",
      "\tepoch: 202 \ttime per epoch: 0.00\ttotal time: 0.11\r",
      "\tepoch: 203 \ttime per epoch: 0.00\ttotal time: 0.11\r",
      "\tepoch: 204 \ttime per epoch: 0.00\ttotal time: 0.12\r",
      "\tepoch: 205 \ttime per epoch: 0.00\ttotal time: 0.12\r",
      "\tepoch: 206 \ttime per epoch: 0.00\ttotal time: 0.12\r",
      "\tepoch: 207 \ttime per epoch: 0.00\ttotal time: 0.12\r",
      "\tepoch: 208 \ttime per epoch: 0.00\ttotal time: 0.12\r",
      "\tepoch: 209 \ttime per epoch: 0.00\ttotal time: 0.12\r",
      "\tepoch: 210 \ttime per epoch: 0.00\ttotal time: 0.12\r",
      "\tepoch: 211 \ttime per epoch: 0.00\ttotal time: 0.12\r",
      "\tepoch: 212 \ttime per epoch: 0.00\ttotal time: 0.12\r",
      "\tepoch: 213 \ttime per epoch: 0.00\ttotal time: 0.12\r",
      "\tepoch: 214 \ttime per epoch: 0.00\ttotal time: 0.12\r",
      "\tepoch: 215 \ttime per epoch: 0.00\ttotal time: 0.12\r",
      "\tepoch: 216 \ttime per epoch: 0.00\ttotal time: 0.12\r",
      "\tepoch: 217 \ttime per epoch: 0.00\ttotal time: 0.12\r",
      "\tepoch: 218 \ttime per epoch: 0.00\ttotal time: 0.12\r",
      "\tepoch: 219 \ttime per epoch: 0.00\ttotal time: 0.12\r",
      "\tepoch: 220 \ttime per epoch: 0.00\ttotal time: 0.12\r",
      "\tepoch: 221 \ttime per epoch: 0.00\ttotal time: 0.12\r",
      "\tepoch: 222 \ttime per epoch: 0.00\ttotal time: 0.12\r",
      "\tepoch: 223 \ttime per epoch: 0.00\ttotal time: 0.12\r",
      "\tepoch: 224 \ttime per epoch: 0.00\ttotal time: 0.13\r",
      "\tepoch: 225 \ttime per epoch: 0.00\ttotal time: 0.13\r",
      "\tepoch: 226 \ttime per epoch: 0.00\ttotal time: 0.13\r",
      "\tepoch: 227 \ttime per epoch: 0.00\ttotal time: 0.13\r",
      "\tepoch: 228 \ttime per epoch: 0.00\ttotal time: 0.13\r",
      "\tepoch: 229 \ttime per epoch: 0.00\ttotal time: 0.13\r",
      "\tepoch: 230 \ttime per epoch: 0.00\ttotal time: 0.13\r",
      "\tepoch: 231 \ttime per epoch: 0.00\ttotal time: 0.13\r",
      "\tepoch: 232 \ttime per epoch: 0.00\ttotal time: 0.13\r",
      "\tepoch: 233 \ttime per epoch: 0.00\ttotal time: 0.13\r",
      "\tepoch: 234 \ttime per epoch: 0.00\ttotal time: 0.13\r",
      "\tepoch: 235 \ttime per epoch: 0.00\ttotal time: 0.13\r",
      "\tepoch: 236 \ttime per epoch: 0.00\ttotal time: 0.13\r",
      "\tepoch: 237 \ttime per epoch: 0.00\ttotal time: 0.13\r",
      "\tepoch: 238 \ttime per epoch: 0.00\ttotal time: 0.13\r",
      "\tepoch: 239 \ttime per epoch: 0.00\ttotal time: 0.13\r",
      "\tepoch: 240 \ttime per epoch: 0.00\ttotal time: 0.13\r",
      "\tepoch: 241 \ttime per epoch: 0.00\ttotal time: 0.13\r",
      "\tepoch: 242 \ttime per epoch: 0.00\ttotal time: 0.13\r",
      "\tepoch: 243 \ttime per epoch: 0.00\ttotal time: 0.13\r",
      "\tepoch: 244 \ttime per epoch: 0.00\ttotal time: 0.13\r",
      "\tepoch: 245 \ttime per epoch: 0.00\ttotal time: 0.14\r",
      "\tepoch: 246 \ttime per epoch: 0.00\ttotal time: 0.14\r",
      "\tepoch: 247 \ttime per epoch: 0.00\ttotal time: 0.14\r",
      "\tepoch: 248 \ttime per epoch: 0.00\ttotal time: 0.14\r",
      "\tepoch: 249 \ttime per epoch: 0.00\ttotal time: 0.14\r",
      "\tepoch: 250 \ttime per epoch: 0.00\ttotal time: 0.14\r",
      "\tepoch: 251 \ttime per epoch: 0.00\ttotal time: 0.14\r",
      "\tepoch: 252 \ttime per epoch: 0.00\ttotal time: 0.14\r",
      "\tepoch: 253 \ttime per epoch: 0.00\ttotal time: 0.14\r",
      "\tepoch: 254 \ttime per epoch: 0.00\ttotal time: 0.14\r",
      "\tepoch: 255 \ttime per epoch: 0.00\ttotal time: 0.14\r",
      "\tepoch: 256 \ttime per epoch: 0.00\ttotal time: 0.14\r",
      "\tepoch: 257 \ttime per epoch: 0.00\ttotal time: 0.14\r",
      "\tepoch: 258 \ttime per epoch: 0.00\ttotal time: 0.14\r",
      "\tepoch: 259 \ttime per epoch: 0.00\ttotal time: 0.14\r",
      "\tepoch: 260 \ttime per epoch: 0.00\ttotal time: 0.14\r",
      "\tepoch: 261 \ttime per epoch: 0.00\ttotal time: 0.14\r",
      "\tepoch: 262 \ttime per epoch: 0.00\ttotal time: 0.14\r",
      "\tepoch: 263 \ttime per epoch: 0.00\ttotal time: 0.14\r",
      "\tepoch: 264 \ttime per epoch: 0.00\ttotal time: 0.15\r",
      "\tepoch: 265 \ttime per epoch: 0.00\ttotal time: 0.15\r",
      "\tepoch: 266 \ttime per epoch: 0.00\ttotal time: 0.15\r",
      "\tepoch: 267 \ttime per epoch: 0.00\ttotal time: 0.15\r",
      "\tepoch: 268 \ttime per epoch: 0.00\ttotal time: 0.15\r",
      "\tepoch: 269 \ttime per epoch: 0.00\ttotal time: 0.15\r",
      "\tepoch: 270 \ttime per epoch: 0.00\ttotal time: 0.15\r",
      "\tepoch: 271 \ttime per epoch: 0.00\ttotal time: 0.15\r",
      "\tepoch: 272 \ttime per epoch: 0.00\ttotal time: 0.15\r",
      "\tepoch: 273 \ttime per epoch: 0.00\ttotal time: 0.15\r",
      "\tepoch: 274 \ttime per epoch: 0.00\ttotal time: 0.15\r",
      "\tepoch: 275 \ttime per epoch: 0.00\ttotal time: 0.15\r",
      "\tepoch: 276 \ttime per epoch: 0.00\ttotal time: 0.15\r",
      "\tepoch: 277 \ttime per epoch: 0.00\ttotal time: 0.15\r",
      "\tepoch: 278 \ttime per epoch: 0.00\ttotal time: 0.15\r",
      "\tepoch: 279 \ttime per epoch: 0.00\ttotal time: 0.15\r",
      "\tepoch: 280 \ttime per epoch: 0.00\ttotal time: 0.15\r",
      "\tepoch: 281 \ttime per epoch: 0.00\ttotal time: 0.15\r",
      "\tepoch: 282 \ttime per epoch: 0.00\ttotal time: 0.15\r",
      "\tepoch: 283 \ttime per epoch: 0.00\ttotal time: 0.15\r",
      "\tepoch: 284 \ttime per epoch: 0.00\ttotal time: 0.15\r",
      "\tepoch: 285 \ttime per epoch: 0.00\ttotal time: 0.15\r",
      "\tepoch: 286 \ttime per epoch: 0.00\ttotal time: 0.15\r",
      "\tepoch: 287 \ttime per epoch: 0.00\ttotal time: 0.16\r",
      "\tepoch: 288 \ttime per epoch: 0.00\ttotal time: 0.16\r",
      "\tepoch: 289 \ttime per epoch: 0.00\ttotal time: 0.16\r",
      "\tepoch: 290 \ttime per epoch: 0.00\ttotal time: 0.16\r",
      "\tepoch: 291 \ttime per epoch: 0.00\ttotal time: 0.16\r",
      "\tepoch: 292 \ttime per epoch: 0.00\ttotal time: 0.16\r",
      "\tepoch: 293 \ttime per epoch: 0.00\ttotal time: 0.16\r",
      "\tepoch: 294 \ttime per epoch: 0.00\ttotal time: 0.16\r",
      "\tepoch: 295 \ttime per epoch: 0.00\ttotal time: 0.16\r",
      "\tepoch: 296 \ttime per epoch: 0.00\ttotal time: 0.16\r",
      "\tepoch: 297 \ttime per epoch: 0.00\ttotal time: 0.16\r",
      "\tepoch: 298 \ttime per epoch: 0.00\ttotal time: 0.16\r",
      "\tepoch: 299 \ttime per epoch: 0.00\ttotal time: 0.16\r",
      "\tLast epoch: 299 \ttime per epoch: 0.00\ttotal time: 0.16\r\n",
      "\tTraining finished\n",
      "\n",
      "\n",
      "Wall time: 160 ms\n"
     ]
    }
   ],
   "source": [
    "%%time\n",
    "rbm_.fit(Xaux, \n",
    "         method='vectorized_CDK',\n",
    "         K=K,\n",
    "         lr=0.01,\n",
    "         epochs=300,\n",
    "         batch_size=128,\n",
    "         plot_weights=False)"
   ]
  },
  {
   "cell_type": "code",
   "execution_count": 14,
   "metadata": {},
   "outputs": [
    {
     "ename": "ValueError",
     "evalue": "cannot reshape array of size 5 into shape (28,28)",
     "output_type": "error",
     "traceback": [
      "\u001b[1;31m---------------------------------------------------------------------------\u001b[0m",
      "\u001b[1;31mValueError\u001b[0m                                Traceback (most recent call last)",
      "\u001b[1;32m<ipython-input-14-2e79dd535e43>\u001b[0m in \u001b[0;36m<module>\u001b[1;34m()\u001b[0m\n\u001b[1;32m----> 1\u001b[1;33m \u001b[0mrbm_\u001b[0m\u001b[1;33m.\u001b[0m\u001b[0mplot_weights\u001b[0m\u001b[1;33m(\u001b[0m\u001b[0mmin_max_scale\u001b[0m \u001b[1;33m=\u001b[0m \u001b[1;32mTrue\u001b[0m\u001b[1;33m)\u001b[0m\u001b[1;33m\u001b[0m\u001b[0m\n\u001b[0m",
      "\u001b[1;32mC:\\Users\\mferrer\\Documents\\TFG\\RBM_Test/RBM\\rbm.py\u001b[0m in \u001b[0;36mplot_weights\u001b[1;34m(self, min_max_scale, min_, max_, folder)\u001b[0m\n\u001b[0;32m    120\u001b[0m             \u001b[0mplt\u001b[0m\u001b[1;33m.\u001b[0m\u001b[0msubplot\u001b[0m\u001b[1;33m(\u001b[0m\u001b[1;36m15\u001b[0m\u001b[1;33m,\u001b[0m \u001b[1;36m15\u001b[0m\u001b[1;33m,\u001b[0m \u001b[0mi\u001b[0m \u001b[1;33m+\u001b[0m \u001b[1;36m1\u001b[0m\u001b[1;33m)\u001b[0m\u001b[1;33m\u001b[0m\u001b[0m\n\u001b[0;32m    121\u001b[0m             \u001b[1;32mif\u001b[0m \u001b[0mmin_max_scale\u001b[0m\u001b[1;33m:\u001b[0m\u001b[1;33m\u001b[0m\u001b[0m\n\u001b[1;32m--> 122\u001b[1;33m                 \u001b[0mplt\u001b[0m\u001b[1;33m.\u001b[0m\u001b[0mimshow\u001b[0m\u001b[1;33m(\u001b[0m\u001b[0mcomp\u001b[0m\u001b[1;33m.\u001b[0m\u001b[0mreshape\u001b[0m\u001b[1;33m(\u001b[0m\u001b[1;33m(\u001b[0m\u001b[1;36m28\u001b[0m\u001b[1;33m,\u001b[0m \u001b[1;36m28\u001b[0m\u001b[1;33m)\u001b[0m\u001b[1;33m)\u001b[0m\u001b[1;33m,\u001b[0m \u001b[0mcmap\u001b[0m\u001b[1;33m=\u001b[0m \u001b[0mplt\u001b[0m\u001b[1;33m.\u001b[0m\u001b[0mget_cmap\u001b[0m\u001b[1;33m(\u001b[0m\u001b[1;34m'gray'\u001b[0m\u001b[1;33m)\u001b[0m\u001b[1;33m,\u001b[0m \u001b[0mvmin\u001b[0m\u001b[1;33m=\u001b[0m\u001b[0mmin_\u001b[0m\u001b[1;33m,\u001b[0m \u001b[0mvmax\u001b[0m\u001b[1;33m=\u001b[0m\u001b[0mmax_\u001b[0m\u001b[1;33m)\u001b[0m\u001b[1;33m\u001b[0m\u001b[0m\n\u001b[0m\u001b[0;32m    123\u001b[0m             \u001b[1;32melse\u001b[0m\u001b[1;33m:\u001b[0m\u001b[1;33m\u001b[0m\u001b[0m\n\u001b[0;32m    124\u001b[0m                 \u001b[0mplt\u001b[0m\u001b[1;33m.\u001b[0m\u001b[0mimshow\u001b[0m\u001b[1;33m(\u001b[0m\u001b[0mcomp\u001b[0m\u001b[1;33m.\u001b[0m\u001b[0mreshape\u001b[0m\u001b[1;33m(\u001b[0m\u001b[1;33m(\u001b[0m\u001b[1;36m28\u001b[0m\u001b[1;33m,\u001b[0m \u001b[1;36m28\u001b[0m\u001b[1;33m)\u001b[0m\u001b[1;33m)\u001b[0m\u001b[1;33m,\u001b[0m \u001b[0mcmap\u001b[0m\u001b[1;33m=\u001b[0m \u001b[0mplt\u001b[0m\u001b[1;33m.\u001b[0m\u001b[0mget_cmap\u001b[0m\u001b[1;33m(\u001b[0m\u001b[1;34m'gray'\u001b[0m\u001b[1;33m)\u001b[0m\u001b[1;33m)\u001b[0m\u001b[1;33m\u001b[0m\u001b[0m\n",
      "\u001b[1;31mValueError\u001b[0m: cannot reshape array of size 5 into shape (28,28)"
     ]
    },
    {
     "data": {
      "image/png": "[encoded data removed]",
      "text/plain": [
       "<matplotlib.figure.Figure at 0x1ceedc7a080>"
      ]
     },
     "metadata": {},
     "output_type": "display_data"
    }
   ],
   "source": [
    "rbm_.plot_weights(min_max_scale = True)"
   ]
  },
  {
   "cell_type": "markdown",
   "metadata": {},
   "source": [
    "#### Saving the model with joblib"
   ]
  },
  {
   "cell_type": "code",
   "execution_count": 13,
   "metadata": {
    "collapsed": true
   },
   "outputs": [],
   "source": [
    "#import joblib\n",
    "\n",
    "# save the classifier\n",
    "#joblib.dump(rbm_, filename=\"./saved_models/rbm.pkl\")    \n",
    "\n",
    "# load it again\n",
    "#rbm2 = joblib.load(\"./saved_models/rbm.pkl\")"
   ]
  },
  {
   "cell_type": "code",
   "execution_count": 14,
   "metadata": {
    "collapsed": true
   },
   "outputs": [],
   "source": [
    "#plt.imshow(rbm2.W[:,3].reshape(28,28), cmap=\"gray\")"
   ]
  },
  {
   "cell_type": "markdown",
   "metadata": {},
   "source": [
    "## Using the model as a feature generation machine"
   ]
  },
  {
   "cell_type": "code",
   "execution_count": 15,
   "metadata": {
    "collapsed": true
   },
   "outputs": [],
   "source": [
    "import sklearn\n",
    "from sklearn import ensemble\n",
    "from sklearn import linear_model\n",
    "import pandas\n",
    "import numpy as np"
   ]
  },
  {
   "cell_type": "code",
   "execution_count": 16,
   "metadata": {
    "collapsed": true
   },
   "outputs": [],
   "source": [
    "X_ = pandas.read_csv(\"../Datasets/MNIST/train_mnist.csv\")\n",
    "Y = X_[\"label\"].values\n",
    "X = X_[X_.columns[1:]].values\n",
    "\n",
    "X = np.array(([14,14,14,14,14],[0,0,0,0,0]))\n",
    "Y = np.array(([1,0]))"
   ]
  },
  {
   "cell_type": "code",
   "execution_count": 17,
   "metadata": {},
   "outputs": [
    {
     "data": {
      "text/plain": [
       "Perceptron(alpha=0.0001, class_weight=None, eta0=1.0, fit_intercept=True,\n",
       "      max_iter=50, n_iter=None, n_jobs=1, penalty=None, random_state=0,\n",
       "      shuffle=True, tol=None, verbose=0, warm_start=False)"
      ]
     },
     "execution_count": 17,
     "metadata": {},
     "output_type": "execute_result"
    }
   ],
   "source": [
    "model = sklearn.linear_model.Perceptron(max_iter = 50)\n",
    "model.fit(X,Y)"
   ]
  },
  {
   "cell_type": "code",
   "execution_count": 22,
   "metadata": {},
   "outputs": [
    {
     "name": "stdout",
     "output_type": "stream",
     "text": [
      "[1 0]\n",
      "train accuracy: 1.0\n"
     ]
    }
   ],
   "source": [
    "test_predict = np.array(([14,0,0,0,0],[0,0,0,0,0]))\n",
    "print(model.predict(test_predict))\n",
    "print(\"train accuracy:\",np.mean(Y==model.predict(X)))"
   ]
  },
  {
   "cell_type": "markdown",
   "metadata": {},
   "source": [
    "#### Learn perceptron on top of Features given by the RBM"
   ]
  },
  {
   "cell_type": "code",
   "execution_count": 23,
   "metadata": {
    "collapsed": true
   },
   "outputs": [],
   "source": [
    "X_features_rbm = rbm_.propup(X)"
   ]
  },
  {
   "cell_type": "code",
   "execution_count": 24,
   "metadata": {},
   "outputs": [
    {
     "data": {
      "text/plain": [
       "Perceptron(alpha=0.0001, class_weight=None, eta0=1.0, fit_intercept=True,\n",
       "      max_iter=50, n_iter=None, n_jobs=1, penalty=None, random_state=0,\n",
       "      shuffle=True, tol=None, verbose=0, warm_start=False)"
      ]
     },
     "execution_count": 24,
     "metadata": {},
     "output_type": "execute_result"
    }
   ],
   "source": [
    "model = sklearn.linear_model.Perceptron(max_iter = 50)\n",
    "model.fit(X_features_rbm ,Y)"
   ]
  },
  {
   "cell_type": "code",
   "execution_count": 25,
   "metadata": {},
   "outputs": [
    {
     "name": "stdout",
     "output_type": "stream",
     "text": [
      "train accuracy: 1.0\n"
     ]
    }
   ],
   "source": [
    "print(\"train accuracy:\",np.mean(Y==model.predict(X_features_rbm )))"
   ]
  },
  {
   "cell_type": "markdown",
   "metadata": {
    "collapsed": true
   },
   "source": [
    "## Sampling from an RBM"
   ]
  },
  {
   "cell_type": "markdown",
   "metadata": {},
   "source": [
    "#### Sampling from a hidden state configuration"
   ]
  },
  {
   "cell_type": "code",
   "execution_count": 26,
   "metadata": {
    "collapsed": true
   },
   "outputs": [],
   "source": [
    "np.random.seed(123)\n",
    "h_hat = np.array([np.random.randint(2) for i in range(rbm_.hidden_dim)])"
   ]
  },
  {
   "cell_type": "code",
   "execution_count": 27,
   "metadata": {},
   "outputs": [
    {
     "ename": "ValueError",
     "evalue": "cannot reshape array of size 5 into shape (28,28)",
     "output_type": "error",
     "traceback": [
      "\u001b[1;31m---------------------------------------------------------------------------\u001b[0m",
      "\u001b[1;31mValueError\u001b[0m                                Traceback (most recent call last)",
      "\u001b[1;32m<ipython-input-27-4b99ab5b8d86>\u001b[0m in \u001b[0;36m<module>\u001b[1;34m()\u001b[0m\n\u001b[0;32m      1\u001b[0m \u001b[0mx_hat\u001b[0m\u001b[1;33m,\u001b[0m \u001b[0mx_hat_p\u001b[0m \u001b[1;33m=\u001b[0m \u001b[0mrbm_\u001b[0m\u001b[1;33m.\u001b[0m\u001b[0msample_visible_from_hidden\u001b[0m\u001b[1;33m(\u001b[0m\u001b[0mh_hat\u001b[0m\u001b[1;33m,\u001b[0m \u001b[0mn_gibbs\u001b[0m\u001b[1;33m=\u001b[0m\u001b[1;36m2000\u001b[0m\u001b[1;33m)\u001b[0m\u001b[1;33m\u001b[0m\u001b[0m\n\u001b[1;32m----> 2\u001b[1;33m \u001b[0mplt\u001b[0m\u001b[1;33m.\u001b[0m\u001b[0mimshow\u001b[0m\u001b[1;33m(\u001b[0m\u001b[0mx_hat\u001b[0m\u001b[1;33m.\u001b[0m\u001b[0mreshape\u001b[0m\u001b[1;33m(\u001b[0m\u001b[1;36m28\u001b[0m\u001b[1;33m,\u001b[0m\u001b[1;36m28\u001b[0m\u001b[1;33m)\u001b[0m\u001b[1;33m)\u001b[0m\u001b[1;33m\u001b[0m\u001b[0m\n\u001b[0m\u001b[0;32m      3\u001b[0m \u001b[0mplt\u001b[0m\u001b[1;33m.\u001b[0m\u001b[0mimshow\u001b[0m\u001b[1;33m(\u001b[0m\u001b[0mx_hat_p\u001b[0m\u001b[1;33m.\u001b[0m\u001b[0mreshape\u001b[0m\u001b[1;33m(\u001b[0m\u001b[1;36m28\u001b[0m\u001b[1;33m,\u001b[0m\u001b[1;36m28\u001b[0m\u001b[1;33m)\u001b[0m\u001b[1;33m)\u001b[0m\u001b[1;33m\u001b[0m\u001b[0m\n",
      "\u001b[1;31mValueError\u001b[0m: cannot reshape array of size 5 into shape (28,28)"
     ]
    }
   ],
   "source": [
    "x_hat, x_hat_p = rbm_.sample_visible_from_hidden(h_hat, n_gibbs=2000)\n",
    "plt.imshow(x_hat.reshape(28,28))\n",
    "plt.imshow(x_hat_p.reshape(28,28))"
   ]
  },
  {
   "cell_type": "code",
   "execution_count": 288,
   "metadata": {},
   "outputs": [
    {
     "data": {
      "text/plain": [
       "<matplotlib.image.AxesImage at 0xa4a7948d0>"
      ]
     },
     "execution_count": 288,
     "metadata": {},
     "output_type": "execute_result"
    },
    {
     "data": {
      "image/png": "[encoded data removed]",
      "text/plain": [
       "<matplotlib.figure.Figure at 0xa4ac4fdd8>"
      ]
     },
     "metadata": {},
     "output_type": "display_data"
    }
   ],
   "source": [
    "x_hat = sample_from_hidden(h_hat,rbm_, n_gibbs=2000)\n",
    "plt.imshow(x_hat.reshape(28,28))"
   ]
  },
  {
   "cell_type": "code",
   "execution_count": 289,
   "metadata": {},
   "outputs": [
    {
     "data": {
      "text/plain": [
       "<matplotlib.image.AxesImage at 0xa4ab0c240>"
      ]
     },
     "execution_count": 289,
     "metadata": {},
     "output_type": "execute_result"
    },
    {
     "data": {
      "image/png": "[encoded data removed]",
      "text/plain": [
       "<matplotlib.figure.Figure at 0xa4a7b8198>"
      ]
     },
     "metadata": {},
     "output_type": "display_data"
    }
   ],
   "source": [
    "x_hat = sample_from_hidden(h_hat,rbm_, n_gibbs=2000)\n",
    "plt.imshow(x_hat.reshape(28,28))"
   ]
  },
  {
   "cell_type": "markdown",
   "metadata": {},
   "source": [
    "#### sampling starting form a visible vector"
   ]
  },
  {
   "cell_type": "code",
   "execution_count": 293,
   "metadata": {},
   "outputs": [
    {
     "data": {
      "text/plain": [
       "(784,)"
      ]
     },
     "execution_count": 293,
     "metadata": {},
     "output_type": "execute_result"
    }
   ],
   "source": [
    "X[1,:].shape"
   ]
  },
  {
   "cell_type": "code",
   "execution_count": 299,
   "metadata": {
    "collapsed": true
   },
   "outputs": [],
   "source": [
    "x = X[1,:]\n",
    "x_hat, x_hat_p = rbm_.sample_visible_from_visible(x, n_gibbs=10)"
   ]
  },
  {
   "cell_type": "code",
   "execution_count": 304,
   "metadata": {},
   "outputs": [
    {
     "data": {
      "text/plain": [
       "<matplotlib.image.AxesImage at 0xa490e6e48>"
      ]
     },
     "execution_count": 304,
     "metadata": {},
     "output_type": "execute_result"
    },
    {
     "data": {
      "image/png": "[encoded data removed]",
      "text/plain": [
       "<matplotlib.figure.Figure at 0xa4ace3dd8>"
      ]
     },
     "metadata": {},
     "output_type": "display_data"
    }
   ],
   "source": [
    "plt.imshow(x_hat.reshape(28,28))"
   ]
  },
  {
   "cell_type": "code",
   "execution_count": 305,
   "metadata": {},
   "outputs": [
    {
     "data": {
      "text/plain": [
       "<matplotlib.image.AxesImage at 0xa4920e518>"
      ]
     },
     "execution_count": 305,
     "metadata": {},
     "output_type": "execute_result"
    },
    {
     "data": {
      "image/png": "[encoded data removed]",
      "text/plain": [
       "<matplotlib.figure.Figure at 0xa4a9926a0>"
      ]
     },
     "metadata": {},
     "output_type": "display_data"
    }
   ],
   "source": [
    "plt.imshow(x_hat_p.reshape(28,28))"
   ]
  },
  {
   "cell_type": "code",
   "execution_count": 303,
   "metadata": {},
   "outputs": [
    {
     "data": {
      "text/plain": [
       "<matplotlib.image.AxesImage at 0xa4acd7748>"
      ]
     },
     "execution_count": 303,
     "metadata": {},
     "output_type": "execute_result"
    },
    {
     "data": {
      "image/png": "[encoded data removed]",
      "text/plain": [
       "<matplotlib.figure.Figure at 0xa4a4c6fd0>"
      ]
     },
     "metadata": {},
     "output_type": "display_data"
    }
   ],
   "source": [
    "plt.imshow(x.reshape(28,28))"
   ]
  },
  {
   "cell_type": "code",
   "execution_count": null,
   "metadata": {
    "collapsed": true
   },
   "outputs": [],
   "source": []
  }
 ],
 "metadata": {
  "kernelspec": {
   "display_name": "Python 3",
   "language": "python",
   "name": "python3"
  },
  "language_info": {
   "codemirror_mode": {
    "name": "ipython",
    "version": 3
   },
   "file_extension": ".py",
   "mimetype": "text/x-python",
   "name": "python",
   "nbconvert_exporter": "python",
   "pygments_lexer": "ipython3",
   "version": "3.6.1"
  }
 },
 "nbformat": 4,
 "nbformat_minor": 1
}
