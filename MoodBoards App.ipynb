{
 "cells": [
  {
   "cell_type": "markdown",
   "metadata": {},
   "source": [
    "# MoodBoard App"
   ]
  },
  {
   "cell_type": "markdown",
   "metadata": {},
   "source": [
    "### Introducció"
   ]
  },
  {
   "cell_type": "markdown",
   "metadata": {},
   "source": [
    "L'objectiu és crear una aplicació de creació d'estils mitjançant la represantació de MoodBoards. Un MoodBoard es una imatge formada per altres imatges col·locades precisament, en aquest cas, la imatge resualtant sera una estança, dormitori, bany, cuina la qual estará formada per diferents imatges, mobles. \n",
    "\n",
    "Exemple moodboar: https://judithollodesign.files.wordpress.com/2014/07/mood-board-1-living-room.jpg"
   ]
  },
  {
   "cell_type": "markdown",
   "metadata": {},
   "source": [
    "L'altre objectiu principal de l'aplicació és que a partir dels estils creats anteriorment sigui capaç de generar estils que se li demanin, per exemple, a partir de tots els estils entrats, podria ser 100 estils, que ens crei un moodboard d'un dormitori d'estil mediterrani. En aquest cas volem que l'aplicació a partir dels moodboards creats anteriorment manualment ens generi un moodboard d'estil mediterrani que segueixi les normes que s'han establert a paritr dels altres moodboards.\n",
    "\n",
    "Aixi dons l'objectiu final es entrar la màquina amb moodboards creats per les interioristes per tal que després la màquina sigui capaç de crear moodboards amb el que ha aprés anteriorment."
   ]
  },
  {
   "cell_type": "markdown",
   "metadata": {},
   "source": [
    "L'aplicació es divideix en 3 parts.\n",
    "\n",
    "* Interificie: ens permetra arrastrar objectes a una graella i generar el moodboard i afegirli un nom, un estil per a tots els objects. Més tard mostrara els moodboards generats per la màquina.\n",
    "* Base de dades: la màquina aprendra les normes i més endavant generarà un fitxer on hi haura els objectes que pertanyen a un estil que se li ha demanat."
   ]
  },
  {
   "cell_type": "markdown",
   "metadata": {},
   "source": [
    "### Dades\n",
    "\n",
    "Les dades seran llegides des d'un json de base dades on contindra tots els objectes disponibles a mostrar i despres es podrá a accedir a cada objecte amb un altre json. A continuació es mostra com son els json:"
   ]
  },
  {
   "cell_type": "code",
   "execution_count": 25,
   "metadata": {},
   "outputs": [
    {
     "data": {
      "text/html": [
       "<div>\n",
       "<style>\n",
       "    .dataframe thead tr:only-child th {\n",
       "        text-align: right;\n",
       "    }\n",
       "\n",
       "    .dataframe thead th {\n",
       "        text-align: left;\n",
       "    }\n",
       "\n",
       "    .dataframe tbody tr th {\n",
       "        vertical-align: top;\n",
       "    }\n",
       "</style>\n",
       "<table border=\"1\" class=\"dataframe\">\n",
       "  <thead>\n",
       "    <tr style=\"text-align: right;\">\n",
       "      <th></th>\n",
       "      <th>categoria</th>\n",
       "      <th>id</th>\n",
       "      <th>rutaImg</th>\n",
       "      <th>status</th>\n",
       "      <th>subcategoria</th>\n",
       "      <th>tipo</th>\n",
       "    </tr>\n",
       "  </thead>\n",
       "  <tbody>\n",
       "    <tr>\n",
       "      <th>0</th>\n",
       "      <td>Mesa comedor</td>\n",
       "      <td>153</td>\n",
       "      <td>http://www.ikea.com/ae/en/images/products/mick...</td>\n",
       "      <td>None</td>\n",
       "      <td>2 comensales</td>\n",
       "      <td>MOBILIARIO</td>\n",
       "    </tr>\n",
       "    <tr>\n",
       "      <th>1</th>\n",
       "      <td>Mesa comedor</td>\n",
       "      <td>154</td>\n",
       "      <td>http://www.ikea.com/ae/en/images/products/mick...</td>\n",
       "      <td>False</td>\n",
       "      <td>2 comensales</td>\n",
       "      <td>MOBILIARIO</td>\n",
       "    </tr>\n",
       "    <tr>\n",
       "      <th>2</th>\n",
       "      <td>Arte mural</td>\n",
       "      <td>155</td>\n",
       "      <td>http://www.ikea.com/cz/cs/images/products/brim...</td>\n",
       "      <td>None</td>\n",
       "      <td>Adhesivos</td>\n",
       "      <td>DECORACIÃ“N</td>\n",
       "    </tr>\n",
       "    <tr>\n",
       "      <th>3</th>\n",
       "      <td>Arte mural</td>\n",
       "      <td>156</td>\n",
       "      <td>http://www.ikea.com/cz/cs/images/products/brim...</td>\n",
       "      <td>None</td>\n",
       "      <td>Adhesivos</td>\n",
       "      <td>DECORACIÃ“N</td>\n",
       "    </tr>\n",
       "    <tr>\n",
       "      <th>4</th>\n",
       "      <td>Textiles baÃ±o</td>\n",
       "      <td>157</td>\n",
       "      <td>http://www.ikea.com/ae/en/images/products/trys...</td>\n",
       "      <td>True</td>\n",
       "      <td>Albornoz colgado en un punto</td>\n",
       "      <td>TEXTIL</td>\n",
       "    </tr>\n",
       "    <tr>\n",
       "      <th>5</th>\n",
       "      <td>Textiles baÃ±o</td>\n",
       "      <td>158</td>\n",
       "      <td>http://www.ikea.com/ae/en/images/products/trys...</td>\n",
       "      <td>None</td>\n",
       "      <td>Albornoz colgado en un punto</td>\n",
       "      <td>TEXTIL</td>\n",
       "    </tr>\n",
       "    <tr>\n",
       "      <th>6</th>\n",
       "      <td>Estantes de pared</td>\n",
       "      <td>159</td>\n",
       "      <td>http://www.ikea.com/ae/en/images/products/trys...</td>\n",
       "      <td>True</td>\n",
       "      <td>Balda</td>\n",
       "      <td>MOBILIARIO</td>\n",
       "    </tr>\n",
       "    <tr>\n",
       "      <th>7</th>\n",
       "      <td>Camas</td>\n",
       "      <td>160</td>\n",
       "      <td>http://www.ikea.com/jo/en/images/products/malm...</td>\n",
       "      <td>False</td>\n",
       "      <td>Cama con patas, cabezal y pies</td>\n",
       "      <td>MOBILIARIO</td>\n",
       "    </tr>\n",
       "  </tbody>\n",
       "</table>\n",
       "</div>"
      ],
      "text/plain": [
       "           categoria   id                                            rutaImg  \\\n",
       "0       Mesa comedor  153  http://www.ikea.com/ae/en/images/products/mick...   \n",
       "1       Mesa comedor  154  http://www.ikea.com/ae/en/images/products/mick...   \n",
       "2         Arte mural  155  http://www.ikea.com/cz/cs/images/products/brim...   \n",
       "3         Arte mural  156  http://www.ikea.com/cz/cs/images/products/brim...   \n",
       "4     Textiles baÃ±o  157  http://www.ikea.com/ae/en/images/products/trys...   \n",
       "5     Textiles baÃ±o  158  http://www.ikea.com/ae/en/images/products/trys...   \n",
       "6  Estantes de pared  159  http://www.ikea.com/ae/en/images/products/trys...   \n",
       "7              Camas  160  http://www.ikea.com/jo/en/images/products/malm...   \n",
       "\n",
       "  status                    subcategoria         tipo  \n",
       "0   None                    2 comensales   MOBILIARIO  \n",
       "1  False                    2 comensales   MOBILIARIO  \n",
       "2   None                       Adhesivos  DECORACIÃ“N  \n",
       "3   None                       Adhesivos  DECORACIÃ“N  \n",
       "4   True    Albornoz colgado en un punto       TEXTIL  \n",
       "5   None    Albornoz colgado en un punto       TEXTIL  \n",
       "6   True                           Balda   MOBILIARIO  \n",
       "7  False  Cama con patas, cabezal y pies   MOBILIARIO  "
      ]
     },
     "execution_count": 25,
     "metadata": {},
     "output_type": "execute_result"
    }
   ],
   "source": [
    "import pandas as pd\n",
    "from pandas.io.json import json_normalize\n",
    "\n",
    "with open('jsonTFG.json') as json_data:\n",
    "    data = json.load(json_data)\n",
    "json_normalize(data)"
   ]
  },
  {
   "cell_type": "code",
   "execution_count": 21,
   "metadata": {},
   "outputs": [
    {
     "data": {
      "text/html": [
       "<div>\n",
       "<style>\n",
       "    .dataframe thead tr:only-child th {\n",
       "        text-align: right;\n",
       "    }\n",
       "\n",
       "    .dataframe thead th {\n",
       "        text-align: left;\n",
       "    }\n",
       "\n",
       "    .dataframe tbody tr th {\n",
       "        vertical-align: top;\n",
       "    }\n",
       "</style>\n",
       "<table border=\"1\" class=\"dataframe\">\n",
       "  <thead>\n",
       "    <tr style=\"text-align: right;\">\n",
       "      <th></th>\n",
       "      <th>id</th>\n",
       "      <th>materials</th>\n",
       "      <th>mesh</th>\n",
       "      <th>pivots.error</th>\n",
       "      <th>pivots.value</th>\n",
       "      <th>rutaImg</th>\n",
       "      <th>status</th>\n",
       "      <th>submeshes</th>\n",
       "    </tr>\n",
       "  </thead>\n",
       "  <tbody>\n",
       "    <tr>\n",
       "      <th>0</th>\n",
       "      <td>153</td>\n",
       "      <td>[Blanco]</td>\n",
       "      <td>12</td>\n",
       "      <td>Expecting value: line 1 column 1 (char 0)</td>\n",
       "      <td></td>\n",
       "      <td>http://www.ikea.com/ae/en/images/products/mick...</td>\n",
       "      <td>Pending</td>\n",
       "      <td>[]</td>\n",
       "    </tr>\n",
       "  </tbody>\n",
       "</table>\n",
       "</div>"
      ],
      "text/plain": [
       "    id materials mesh                               pivots.error pivots.value  \\\n",
       "0  153  [Blanco]   12  Expecting value: line 1 column 1 (char 0)                \n",
       "\n",
       "                                             rutaImg   status submeshes  \n",
       "0  http://www.ikea.com/ae/en/images/products/mick...  Pending        []  "
      ]
     },
     "execution_count": 21,
     "metadata": {},
     "output_type": "execute_result"
    }
   ],
   "source": [
    "import json\n",
    "from pandas.io.json import json_normalize\n",
    "\n",
    "with open('jsonTFGObject.json') as json_data:\n",
    "    dataObject = json.load(json_data)\n",
    "json_normalize(dataObject)"
   ]
  },
  {
   "cell_type": "markdown",
   "metadata": {},
   "source": [
    "Les dos taules son l'input de l'aplicació, la informació que es fara servir per a mostrar les imatges a la interficie gràfica. A partir d'aquesta informació s'obtindran una serie d'imatges que es podran posar sobre una graella per tal de generar una imatge, un MoodBoard."
   ]
  },
  {
   "cell_type": "markdown",
   "metadata": {},
   "source": [
    "La informació de sortida sera un fitxer json amb un nom, aquest nom correspon al nom de l'estil del conjunt de les imatges i el json contindra tota la llista de id dels objectes que s'han col·locat a la graella. \n",
    "\n",
    "Amb els id dels objectes es podran fer crides a la bbdd per tal d'aconseguir la informació de cada objecte, la segona taula."
   ]
  }
 ],
 "metadata": {
  "kernelspec": {
   "display_name": "Python 3",
   "language": "python",
   "name": "python3"
  },
  "language_info": {
   "codemirror_mode": {
    "name": "ipython",
    "version": 3
   },
   "file_extension": ".py",
   "mimetype": "text/x-python",
   "name": "python",
   "nbconvert_exporter": "python",
   "pygments_lexer": "ipython3",
   "version": "3.6.1"
  }
 },
 "nbformat": 4,
 "nbformat_minor": 2
}
