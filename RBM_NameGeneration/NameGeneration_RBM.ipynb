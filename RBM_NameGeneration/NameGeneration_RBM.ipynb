{
 "cells": [
  {
   "cell_type": "markdown",
   "metadata": {},
   "source": [
    "## Restricted Boltzmann Machines"
   ]
  },
  {
   "cell_type": "markdown",
   "metadata": {},
   "source": [
    "Our goal is create a RBM machine that generate new names of people, places and things. To achieve this we need to build a model that spits out funny names. \n",
    "\n",
    "The problem that RBMs are trying to solve is learning a probability distribution. Then we want to learn a function P that assings every string a probability according to its plausibility as a particular kind of name. "
   ]
  },
  {
   "cell_type": "markdown",
   "metadata": {},
   "source": [
    "#### DATA INPUT"
   ]
  },
  {
   "cell_type": "markdown",
   "metadata": {},
   "source": [
    "Every data we want to feed into a neural network needs to be transformed into a vector of numbers first. So we represent names as sequences of one-hot vectors of length N, where N is the size of our alphabet.\n",
    "\n",
    "Also we need to fix some maximum string length M ahead of time. Names shortes than M will need to be padded with some special character. "
   ]
  },
  {
   "cell_type": "markdown",
   "metadata": {},
   "source": [
    "#### RMBs\n"
   ]
  }
 ],
 "metadata": {
  "kernelspec": {
   "display_name": "Python 3",
   "language": "python",
   "name": "python3"
  },
  "language_info": {
   "codemirror_mode": {
    "name": "ipython",
    "version": 3
   },
   "file_extension": ".py",
   "mimetype": "text/x-python",
   "name": "python",
   "nbconvert_exporter": "python",
   "pygments_lexer": "ipython3",
   "version": "3.6.1"
  }
 },
 "nbformat": 4,
 "nbformat_minor": 2
}
